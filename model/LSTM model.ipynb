{
 "cells": [
  {
   "cell_type": "code",
   "execution_count": 1,
   "metadata": {},
   "outputs": [
    {
     "name": "stdout",
     "output_type": "stream",
     "text": [
      "[nltk_data] Downloading package punkt to /Users/yuloucn/nltk_data...\n",
      "[nltk_data]   Package punkt is already up-to-date!\n"
     ]
    }
   ],
   "source": [
    "import numpy as np\n",
    "from collections import namedtuple\n",
    "import sys\n",
    "from typing import List, Tuple, Dict, Set, Union\n",
    "import torch\n",
    "import torch.nn as nn\n",
    "import torch.nn.utils\n",
    "import torch.nn.functional as F\n",
    "from torch.nn.utils.rnn import pad_packed_sequence, pack_padded_sequence\n",
    "from nltk import word_tokenize\n",
    "\n",
    "#from model_embeddings import ModelEmbeddings\n",
    "from evaluator import Evaluator\n",
    "from vocab import Vocab, VocabEntry\n",
    "from utils import read_corpus, pad_sents\n",
    "Hypothesis = namedtuple('Hypothesis', ['value', 'score'])"
   ]
  },
  {
   "cell_type": "code",
   "execution_count": 2,
   "metadata": {},
   "outputs": [],
   "source": [
    "definitions = []\n",
    "unparsed_definition = []\n",
    "words = []\n",
    "src_sents = read_corpus('../data/data_train_definitions.txt')"
   ]
  },
  {
   "cell_type": "code",
   "execution_count": 3,
   "metadata": {},
   "outputs": [],
   "source": [
    "with open('../data/data_train_words.txt') as f:\n",
    "    words += f.read().splitlines()\n",
    "    \n",
    "with open('../data/data_train_definitions.txt') as f:\n",
    "    unparsed_definition += f.read().splitlines()\n",
    "    definitions += [word_tokenize(a) for a in unparsed_definition]"
   ]
  },
  {
   "cell_type": "code",
   "execution_count": 4,
   "metadata": {},
   "outputs": [],
   "source": [
    "assert(len(words) == len(definitions))"
   ]
  },
  {
   "cell_type": "code",
   "execution_count": 5,
   "metadata": {},
   "outputs": [
    {
     "name": "stdout",
     "output_type": "stream",
     "text": [
      "number of word types: 23452, number of word types w/ frequency >= 0: 23452\n"
     ]
    }
   ],
   "source": [
    "eval = Evaluator()\n",
    "glove_dict = eval.load_glove_embeddings(max_line = 50000)\n",
    "\n",
    "src_sents = read_corpus('../data/data_train_definitions.txt')\n",
    "vocab = VocabEntry.from_corpus(src_sents, 30000, 0)"
   ]
  },
  {
   "cell_type": "code",
   "execution_count": 6,
   "metadata": {},
   "outputs": [],
   "source": [
    "def create_emb_layer(weights_matrix, src_pad_token_idx, non_trainable=False):\n",
    "    num_embeddings, embedding_dim = weights_matrix.shape\n",
    "    emb_layer = nn.Embedding(num_embeddings, embedding_dim, src_pad_token_idx)\n",
    "    emb_layer.weight.data.copy_(torch.from_numpy(weights_matrix)) #figure out what is here\n",
    "    if non_trainable:\n",
    "        emb_layer.weight.requires_grad = False\n",
    "    return emb_layer, num_embeddings, embedding_dim\n",
    "\n",
    "class ModelEmbeddings(nn.Module): \n",
    "    \"\"\"\n",
    "    Class that converts input words to their embeddings.\n",
    "    \"\"\"\n",
    "\n",
    "    def __init__(self, embed_size, vocab, glove_dict):\n",
    "        \"\"\"\n",
    "        Init the Embedding layers.\n",
    "\n",
    "        @param embed_size (int): Embedding size (dimensionality)\n",
    "        @param vocab (VocabEntry)\n",
    "        \"\"\"\n",
    "        super(ModelEmbeddings, self).__init__()\n",
    "\n",
    "        self.embed_size = embed_size\n",
    "\n",
    "        matrix_len = len(vocab)\n",
    "        weights_matrix = np.zeros((matrix_len, self.embed_size))\n",
    "        words_found = 0\n",
    "        #print(len(vocab), weights_matrix.shape)\n",
    "        for word, index in vocab.word2id.items():\n",
    "            try:\n",
    "                weights_matrix[index] = np.array(glove_dict[word])\n",
    "                words_found += 1\n",
    "            except KeyError:\n",
    "                weights_matrix[index] = np.random.normal(scale=0.6, size=(self.embed_size,))\n",
    "\n",
    "        # default values\n",
    "        src_pad_token_idx = vocab['<pad>']\n",
    "        self.source = create_emb_layer(weights_matrix, src_pad_token_idx, True)\n",
    "        ### END YOUR CODE\n"
   ]
  },
  {
   "cell_type": "code",
   "execution_count": 7,
   "metadata": {},
   "outputs": [],
   "source": [
    "class EncoderRNN(nn.Module):\n",
    "    def __init__(self, input_size, hidden_size, vocab, glove_dict):\n",
    "        super(EncoderRNN, self).__init__()\n",
    "        self.hidden_size = hidden_size\n",
    "        self.embedding = ModelEmbeddings(input_size, vocab, glove_dict)\n",
    "        self.gru = nn.GRU(input_size, hidden_size)\n",
    "        self.linear = nn.Linear(self.hidden_size, self.hidden_size, bias = False)\n",
    "\n",
    "    def forward(self, input_, hidden):\n",
    "        embedded = self.embedding.source[0](input_)\n",
    "        output = embedded\n",
    "        output, hidden = self.gru(output, hidden)\n",
    "        projected = self.linear(hidden.permute(1,0,2))\n",
    "        return projected, hidden\n",
    "\n",
    "    def initHidden(self, device = None):\n",
    "        return torch.zeros(1, 1, self.hidden_size, device=device)"
   ]
  },
  {
   "cell_type": "code",
   "execution_count": 8,
   "metadata": {},
   "outputs": [],
   "source": [
    "model = EncoderRNN(50, 50, vocab, glove_dict)\n",
    "loss_function = nn.SmoothL1Loss(reduction = \"sum\")\n",
    "optimizer = torch.optim.SGD(model.parameters(), lr=1e-2, momentum=0.9)"
   ]
  },
  {
   "cell_type": "code",
   "execution_count": null,
   "metadata": {},
   "outputs": [],
   "source": []
  },
  {
   "cell_type": "code",
   "execution_count": 9,
   "metadata": {},
   "outputs": [
    {
     "name": "stdout",
     "output_type": "stream",
     "text": [
      "0 tensor(15.5478, dtype=torch.float64, grad_fn=<SmoothL1LossBackward>)\n",
      "100 tensor(2.1284, dtype=torch.float64, grad_fn=<SmoothL1LossBackward>)\n",
      "200 tensor(1.3928, dtype=torch.float64, grad_fn=<SmoothL1LossBackward>)\n",
      "300 tensor(1.4093, dtype=torch.float64, grad_fn=<SmoothL1LossBackward>)\n",
      "400 tensor(1.3329, dtype=torch.float64, grad_fn=<SmoothL1LossBackward>)\n",
      "500 tensor(1.5317, dtype=torch.float64, grad_fn=<SmoothL1LossBackward>)\n",
      "600 tensor(1.5351, dtype=torch.float64, grad_fn=<SmoothL1LossBackward>)\n",
      "700 tensor(1.1816, dtype=torch.float64, grad_fn=<SmoothL1LossBackward>)\n",
      "800 tensor(2.1341, dtype=torch.float64, grad_fn=<SmoothL1LossBackward>)\n",
      "900 tensor(1.7334, dtype=torch.float64, grad_fn=<SmoothL1LossBackward>)\n",
      "1000 tensor(1.4280, dtype=torch.float64, grad_fn=<SmoothL1LossBackward>)\n",
      "1100 tensor(2.1715, dtype=torch.float64, grad_fn=<SmoothL1LossBackward>)\n"
     ]
    },
    {
     "ename": "KeyboardInterrupt",
     "evalue": "",
     "output_type": "error",
     "traceback": [
      "\u001b[0;31m---------------------------------------------------------------------------\u001b[0m",
      "\u001b[0;31mKeyboardInterrupt\u001b[0m                         Traceback (most recent call last)",
      "\u001b[0;32m<ipython-input-9-dd71fb047289>\u001b[0m in \u001b[0;36m<module>\u001b[0;34m\u001b[0m\n\u001b[1;32m     21\u001b[0m         \u001b[0mloss\u001b[0m \u001b[0;34m=\u001b[0m \u001b[0mloss_function\u001b[0m\u001b[0;34m(\u001b[0m\u001b[0my_pred\u001b[0m\u001b[0;34m,\u001b[0m \u001b[0my\u001b[0m\u001b[0;34m)\u001b[0m\u001b[0;34m\u001b[0m\u001b[0m\n\u001b[1;32m     22\u001b[0m \u001b[0;34m\u001b[0m\u001b[0m\n\u001b[0;32m---> 23\u001b[0;31m         \u001b[0mloss\u001b[0m\u001b[0;34m.\u001b[0m\u001b[0mbackward\u001b[0m\u001b[0;34m(\u001b[0m\u001b[0;34m)\u001b[0m\u001b[0;34m\u001b[0m\u001b[0m\n\u001b[0m\u001b[1;32m     24\u001b[0m         \u001b[0moptimizer\u001b[0m\u001b[0;34m.\u001b[0m\u001b[0mstep\u001b[0m\u001b[0;34m(\u001b[0m\u001b[0;34m)\u001b[0m\u001b[0;34m\u001b[0m\u001b[0m\n\u001b[1;32m     25\u001b[0m     \u001b[0mlosses\u001b[0m\u001b[0;34m.\u001b[0m\u001b[0mappend\u001b[0m\u001b[0;34m(\u001b[0m\u001b[0mloss\u001b[0m\u001b[0;34m)\u001b[0m\u001b[0;34m\u001b[0m\u001b[0m\n",
      "\u001b[0;32m~/opt/miniconda3/envs/local_nmt/lib/python3.5/site-packages/torch/tensor.py\u001b[0m in \u001b[0;36mbackward\u001b[0;34m(self, gradient, retain_graph, create_graph)\u001b[0m\n\u001b[1;32m    193\u001b[0m                 \u001b[0mproducts\u001b[0m\u001b[0;34m.\u001b[0m \u001b[0mDefaults\u001b[0m \u001b[0mto\u001b[0m\u001b[0;31m \u001b[0m\u001b[0;31m`\u001b[0m\u001b[0;31m`\u001b[0m\u001b[0;32mFalse\u001b[0m\u001b[0;31m`\u001b[0m\u001b[0;31m`\u001b[0m\u001b[0;34m.\u001b[0m\u001b[0;34m\u001b[0m\u001b[0m\n\u001b[1;32m    194\u001b[0m         \"\"\"\n\u001b[0;32m--> 195\u001b[0;31m         \u001b[0mtorch\u001b[0m\u001b[0;34m.\u001b[0m\u001b[0mautograd\u001b[0m\u001b[0;34m.\u001b[0m\u001b[0mbackward\u001b[0m\u001b[0;34m(\u001b[0m\u001b[0mself\u001b[0m\u001b[0;34m,\u001b[0m \u001b[0mgradient\u001b[0m\u001b[0;34m,\u001b[0m \u001b[0mretain_graph\u001b[0m\u001b[0;34m,\u001b[0m \u001b[0mcreate_graph\u001b[0m\u001b[0;34m)\u001b[0m\u001b[0;34m\u001b[0m\u001b[0m\n\u001b[0m\u001b[1;32m    196\u001b[0m \u001b[0;34m\u001b[0m\u001b[0m\n\u001b[1;32m    197\u001b[0m     \u001b[0;32mdef\u001b[0m \u001b[0mregister_hook\u001b[0m\u001b[0;34m(\u001b[0m\u001b[0mself\u001b[0m\u001b[0;34m,\u001b[0m \u001b[0mhook\u001b[0m\u001b[0;34m)\u001b[0m\u001b[0;34m:\u001b[0m\u001b[0;34m\u001b[0m\u001b[0m\n",
      "\u001b[0;32m~/opt/miniconda3/envs/local_nmt/lib/python3.5/site-packages/torch/autograd/__init__.py\u001b[0m in \u001b[0;36mbackward\u001b[0;34m(tensors, grad_tensors, retain_graph, create_graph, grad_variables)\u001b[0m\n\u001b[1;32m     97\u001b[0m     Variable._execution_engine.run_backward(\n\u001b[1;32m     98\u001b[0m         \u001b[0mtensors\u001b[0m\u001b[0;34m,\u001b[0m \u001b[0mgrad_tensors\u001b[0m\u001b[0;34m,\u001b[0m \u001b[0mretain_graph\u001b[0m\u001b[0;34m,\u001b[0m \u001b[0mcreate_graph\u001b[0m\u001b[0;34m,\u001b[0m\u001b[0;34m\u001b[0m\u001b[0m\n\u001b[0;32m---> 99\u001b[0;31m         allow_unreachable=True)  # allow_unreachable flag\n\u001b[0m\u001b[1;32m    100\u001b[0m \u001b[0;34m\u001b[0m\u001b[0m\n\u001b[1;32m    101\u001b[0m \u001b[0;34m\u001b[0m\u001b[0m\n",
      "\u001b[0;31mKeyboardInterrupt\u001b[0m: "
     ]
    }
   ],
   "source": [
    "definition_indices = vocab.words2indices(definitions)\n",
    "words_in = 0\n",
    "words_out = 0\n",
    "\n",
    "import timeit\n",
    "start = timeit.default_timer()\n",
    "losses = []\n",
    "for epoch in range(3000):  # again, normally you would NOT do 300 epochs, it is toy data\n",
    "    for i in range(800): #should be range(len(definition_indices))\n",
    "        if words[i] not in glove_dict: \n",
    "            continue\n",
    "        model.zero_grad()\n",
    "        x = torch.tensor(definition_indices[i])\n",
    "\n",
    "        init_hidden = model.initHidden()\n",
    "        tag_scores = model.forward(x.view(x.shape[0], 1), init_hidden)\n",
    "        y_array = np.array(glove_dict[words[i]]) if words[i] in glove_dict else np.random.normal(scale=0.6, size=(50,))\n",
    "        y = torch.tensor(y_array).double()\n",
    "        y_pred = tag_scores[0].view((tag_scores[0].shape[2])).double()\n",
    "\n",
    "        loss = loss_function(y_pred, y)\n",
    "\n",
    "        loss.backward()\n",
    "        optimizer.step()\n",
    "    losses.append(loss)\n",
    "    if epoch % 100 == 0:\n",
    "        print(epoch, loss)\n",
    "    \n",
    "stop = timeit.default_timer()\n",
    "\n",
    "print('Time: ', stop - start)"
   ]
  },
  {
   "cell_type": "code",
   "execution_count": 11,
   "metadata": {},
   "outputs": [
    {
     "name": "stdout",
     "output_type": "stream",
     "text": [
      "[<matplotlib.lines.Line2D object at 0x1a2b90b780>]\n"
     ]
    },
    {
     "data": {
      "image/png": "[encoded data removed]",
      "text/plain": [
       "<Figure size 432x288 with 1 Axes>"
      ]
     },
     "metadata": {
      "needs_background": "light"
     },
     "output_type": "display_data"
    }
   ],
   "source": [
    "import matplotlib.pyplot as plt\n",
    "print(plt.plot([l.double() for l in losses]))"
   ]
  },
  {
   "cell_type": "code",
   "execution_count": 12,
   "metadata": {},
   "outputs": [],
   "source": [
    "validate_dict = {}\n",
    "with open('../data/data_train_words.txt') as f:\n",
    "    lines = f.readlines()\n",
    "lines = [line[:-1] for line in lines]\n",
    "validate_words = sorted(list(set(lines)))\n",
    "for word in validate_words:\n",
    "    if word in glove_dict:\n",
    "        validate_dict[word] = glove_dict[word]\n",
    "\n",
    "count = 0"
   ]
  },
  {
   "cell_type": "code",
   "execution_count": 15,
   "metadata": {},
   "outputs": [
    {
     "name": "stderr",
     "output_type": "stream",
     "text": [
      "/Users/yuloucn/opt/miniconda3/envs/local_nmt/lib/python3.5/site-packages/ipykernel_launcher.py:14: UserWarning: To copy construct from a tensor, it is recommended to use sourceTensor.clone().detach() or sourceTensor.clone().detach().requires_grad_(True), rather than torch.tensor(sourceTensor).\n",
      "  \n"
     ]
    },
    {
     "name": "stdout",
     "output_type": "stream",
     "text": [
      "tall ['tall', 'sturdy', 'slender', 'height', 'wooden', 'towering', 'frame', 'diameter', 'thick', 'roof']\n",
      "tall ['marvelous', 'fabulous', 'wonderful', 'amazing', 'terrific', 'gorgeous', 'splendid', 'brilliant', 'delightful', 'awesome']\n",
      "tall ['tall', 'sturdy', 'slender', 'height', 'wooden', 'towering', 'frame', 'diameter', 'thick', 'roof']\n",
      "tall ['tall', 'sturdy', 'height', 'slender', 'wooden', 'towering', 'frame', 'diameter', 'thick', 'roof']\n",
      "tall ['tall', 'sturdy', 'slender', 'height', 'wooden', 'towering', 'frame', 'diameter', 'thick', 'roof']\n",
      "tall ['tall', 'sturdy', 'height', 'slender', 'wooden', 'towering', 'frame', 'diameter', 'thick', 'roof']\n",
      "tip ['tip', 'mouth', 'bottom', 'tiny', 'edge', 'finger', 'plate', 'slice', 'point', 'tongue']\n",
      "tip ['crane', 'cliff', 'pine', 'tree', 'hollow', 'tall', 'hill', 'frost', 'wood', 'willow']\n",
      "tip ['swollen', 'swelling', 'bruise', 'bleeding', 'mouth', 'forehead', 'sore', 'throat', 'spine', 'neck']\n",
      "tip ['ravine', 'lying', 'embankment', 'gorge', 'mud', 'tip', 'slope', 'ledge', 'narrow', 'floating']\n",
      "tip ['tip', 'mouth', 'tiny', 'border', 'rim', 'southeastern', 'southwestern', 'northeastern', 'crossing', 'northwest']\n",
      "tip ['tip', 'bottom', 'mouth', 'tiny', 'plate', 'edge', 'slice', 'narrow', 'finger', 'plain']\n",
      "tip ['swollen', 'foot', 'shoulder', 'tip', 'mouth', 'heavy', 'nose', 'covered', 'wound', 'ground']\n",
      "tip ['tip', 'bottom', 'mouth', 'tiny', 'plate', 'slice', 'narrow', 'edge', 'finger', 'rim']\n",
      "tip ['tip', 'mouth', 'spotted', 'landed', 'tiny', 'southwestern', 'snake', 'found', 'coast', 'northeastern']\n",
      "tip ['tip', 'mouth', 'tiny', 'bottom', 'edge', 'finger', 'rim', 'narrow', 'plate', 'tongue']\n",
      "tip ['tip', 'mouth', 'tiny', 'landed', 'small', 'spotted', 'found', 'border', 'finger', 'rim']\n",
      "tip ['tip', 'bottom', 'mouth', 'tiny', 'plate', 'edge', 'narrow', 'slice', 'finger', 'point']\n",
      "tip ['swollen', 'mouth', 'swelling', 'nose', 'forehead', 'neck', 'throat', 'spine', 'chest', 'anterior']\n",
      "tip ['tip', 'mouth', 'tiny', 'snake', 'southern', 'border', 'long', 'spotted', 'found', 'southwestern']\n",
      "tip ['tip', 'bottom', 'mouth', 'tiny', 'plate', 'edge', 'narrow', 'slice', 'finger', 'point']\n",
      "tip ['tip', 'bottom', 'mouth', 'tiny', 'edge', 'plate', 'finger', 'slice', 'narrow', 'tongue']\n",
      "tip ['tip', 'mouth', 'bottom', 'tiny', 'edge', 'finger', 'plate', 'slice', 'point', 'narrow']\n",
      "tip ['tip', 'bottom', 'mouth', 'tiny', 'edge', 'slice', 'plate', 'finger', 'narrow', 'tongue']\n",
      "tip ['falling', 'surge', 'sharp', 'drop', 'big', 'fall', 'fallen', 'slide', 'dropping', 'coming']\n",
      "tip ['tip', 'mouth', 'tiny', 'snake', 'southern', 'border', 'long', 'spotted', 'found', 'southwestern']\n",
      "tip ['tip', 'mouth', 'tiny', 'border', 'shore', 'landed', 'remote', 'small', 'long', 'coast']\n",
      "tip ['tip', 'mouth', 'bottom', 'tiny', 'slice', 'rim', 'narrow', 'edge', 'tongue', 'finger']\n",
      "regular ['regular', 'schedule', 'addition', 'usual', 'start', 'six', 'first', 'extra', 'full', 'special']\n",
      "regular ['regular', 'schedule', 'addition', 'usual', 'start', 'first', 'six', 'four', 'full', 'extra']\n",
      "regular ['major', 'leading', 'recent', 'addition', 'significant', 'included', 'main', 'minor', 'two', 'key']\n",
      "regular ['regular', 'schedule', 'addition', 'usual', 'start', 'special', 'full', 'extra', 'first', 'six']\n",
      "regular ['regular', 'schedule', 'addition', 'usual', 'extra', 'start', 'full', 'special', 'six', 'first']\n",
      "regular ['regular', 'instead', 'addition', 'full', 'same', 'different', 'making', 'extra', 'well', 'usual']\n",
      "regular ['major', 'leading', 'key', 'significant', 'first', 'important', 'recent', 'addition', 'early', 'combined']\n",
      "regular ['regular', 'schedule', 'addition', 'usual', 'start', 'full', 'extra', 'special', 'six', 'first']\n",
      "regular ['regular', 'schedule', 'addition', 'usual', 'start', 'six', 'first', 'four', 'extra', 'full']\n",
      "regular ['regular', 'usual', 'schedule', 'extra', 'addition', 'full', 'start', 'normally', 'instead', 'making']\n",
      "regular ['pace', 'slow', 'momentum', 'fast', 'steady', 'robust', 'growth', 'better', 'strong', 'gain']\n",
      "regular ['regular', 'schedule', 'addition', 'usual', 'start', 'first', 'six', 'special', 'four', 'full']\n",
      "regular ['regular', 'schedule', 'addition', 'usual', 'start', 'first', 'six', 'four', 'full', 'extra']\n",
      "regular ['regular', 'schedule', 'addition', 'start', 'six', 'first', 'usual', 'four', 'five', 'extra']\n",
      "regular ['regular', 'schedule', 'addition', 'usual', 'start', 'first', 'six', 'full', 'four', 'five']\n",
      "regular ['regular', 'schedule', 'addition', 'usual', 'start', 'full', 'first', 'six', 'extra', 'four']\n",
      "regular ['regular', 'schedule', 'usual', 'addition', 'start', 'full', 'six', 'first', 'extra', 'four']\n",
      "regular ['regular', 'schedule', 'addition', 'usual', 'start', 'first', 'six', 'full', 'extra', 'four']\n",
      "regular ['regular', 'schedule', 'addition', 'usual', 'start', 'full', 'first', 'six', 'extra', 'special']\n",
      "regular ['regular', 'schedule', 'addition', 'usual', 'start', 'six', 'first', 'four', 'extra', 'five']\n",
      "regular ['regular', 'schedule', 'addition', 'usual', 'start', 'six', 'first', 'extra', 'four', 'full']\n",
      "regular ['regular', 'schedule', 'addition', 'usual', 'start', 'six', 'first', 'four', 'extra', 'special']\n",
      "crisp ['regular', 'schedule', 'addition', 'usual', 'start', 'six', 'first', 'four', 'extra', 'five']\n",
      "crisp ['crisp', 'creamy', 'texture', 'dressing', 'glaze', 'nicely', 'vinaigrette', 'spicy', 'soft', 'lemon']\n",
      "crisp ['crisp', 'creamy', 'texture', 'dressing', 'glaze', 'nicely', 'soft', 'flavor', 'spicy', 'lemon']\n",
      "crisp ['crisp', 'creamy', 'texture', 'nicely', 'dressing', 'glaze', 'soft', 'spicy', 'flavor', 'dull']\n",
      "crisp ['crisp', 'creamy', 'texture', 'dressing', 'glaze', 'nicely', 'soft', 'vinaigrette', 'spicy', 'lemon']\n",
      "crisp ['crisp', 'creamy', 'texture', 'dressing', 'glaze', 'nicely', 'soft', 'sweet', 'flavor', 'spicy']\n",
      "crisp ['crisp', 'creamy', 'texture', 'dressing', 'nicely', 'glaze', 'soft', 'spicy', 'sweet', 'flavor']\n",
      "crisp ['crisp', 'creamy', 'texture', 'dressing', 'glaze', 'nicely', 'vinaigrette', 'spicy', 'soft', 'lemon']\n",
      "crisp ['crisp', 'creamy', 'texture', 'glaze', 'dressing', 'nicely', 'spicy', 'vinaigrette', 'fluffy', 'soft']\n",
      "crisp ['crisp', 'pace', 'nicely', 'sharp', 'brisk', 'texture', 'rebound', 'lean', 'slow', 'gently']\n",
      "crisp ['crisp', 'creamy', 'texture', 'nicely', 'dressing', 'glaze', 'soft', 'flavor', 'sweet', 'spicy']\n",
      "crisp ['crisp', 'creamy', 'texture', 'dressing', 'nicely', 'glaze', 'soft', 'spicy', 'flavor', 'sweet']\n",
      "crisp ['crisp', 'creamy', 'texture', 'dressing', 'glaze', 'nicely', 'soft', 'spicy', 'vinaigrette', 'lemon']\n",
      "crisp ['crisp', 'creamy', 'texture', 'nicely', 'dressing', 'glaze', 'soft', 'flavor', 'dull', 'sweet']\n",
      "crisp ['crisp', 'creamy', 'texture', 'dressing', 'glaze', 'nicely', 'flavor', 'spicy', 'soft', 'sweet']\n",
      "crisp ['lovely', 'beautiful', 'gorgeous', 'sweet', 'bright', 'lush', 'wonderful', 'crisp', 'pretty', 'green']\n",
      "crisp ['crisp', 'creamy', 'texture', 'dressing', 'glaze', 'nicely', 'soft', 'thin', 'flavor', 'thick']\n",
      "crisp ['crisp', 'creamy', 'texture', 'dressing', 'glaze', 'nicely', 'spicy', 'lemon', 'vinaigrette', 'soft']\n",
      "crisp ['crisp', 'rough', 'lovely', 'thick', 'gorgeous', 'pine', 'beautiful', 'dry', 'texture', 'neat']\n",
      "freeman ['freeman', 'mason', 'cooper', 'griffin', 'smith', 'fisher', 'walker', 'peck', 'dean', 'wright']\n",
      "freeman ['freeman', 'mason', 'cooper', 'smith', 'griffin', 'fisher', 'peck', 'walker', 'burke', 'dean']\n",
      "freeman ['freeman', 'mason', 'cooper', 'griffin', 'fisher', 'smith', 'peck', 'walker', 'burke', 'dean']\n",
      "freeman ['freeman', 'mason', 'smith', 'cooper', 'griffin', 'fisher', 'dean', 'peck', 'walker', 'burke']\n",
      "freeman ['freeman', 'mason', 'cooper', 'griffin', 'smith', 'fisher', 'walker', 'peck', 'dean', 'burke']\n",
      "elegant ['elegant', 'stylish', 'graceful', 'style', 'sleek', 'luxurious', 'sumptuous', 'elegantly', 'rustic', 'opulent']\n",
      "elegant ['elegant', 'stylish', 'style', 'graceful', 'sleek', 'elegantly', 'luxurious', 'sumptuous', 'charming', 'opulent']\n",
      "elegant ['elegant', 'stylish', 'graceful', 'style', 'sleek', 'elegantly', 'sumptuous', 'luxurious', 'charming', 'beautiful']\n",
      "elegant ['elegant', 'charming', 'lovely', 'beautiful', 'graceful', 'stylish', 'rustic', 'handsome', 'elegantly', 'simple']\n",
      "elegant ['elegant', 'stylish', 'graceful', 'style', 'elegantly', 'charming', 'luxurious', 'beautiful', 'sleek', 'sumptuous']\n"
     ]
    },
    {
     "name": "stdout",
     "output_type": "stream",
     "text": [
      "elegant ['elegant', 'stylish', 'style', 'graceful', 'sleek', 'beautiful', 'elegantly', 'charming', 'luxurious', 'lovely']\n",
      "elegant ['tall', 'handsome', 'sturdy', 'beautiful', 'man', 'slender', 'haired', 'sitting', 'person', 'lovely']\n",
      "elegant ['elegant', 'stylish', 'style', 'graceful', 'sleek', 'elegantly', 'luxurious', 'sumptuous', 'charming', 'rustic']\n",
      "elegant ['elegant', 'stylish', 'charming', 'graceful', 'elegantly', 'lovely', 'beautiful', 'style', 'luxurious', 'sumptuous']\n",
      "elegant ['elegant', 'stylish', 'graceful', 'style', 'elegantly', 'charming', 'luxurious', 'sumptuous', 'sleek', 'rustic']\n",
      "immortality ['immortality', 'heavenly', 'transcendent', 'happiness', 'divine', 'eternal', 'earthly', 'purity', 'solace', 'innate']\n",
      "immortality ['immortality', 'heavenly', 'transcendent', 'happiness', 'divine', 'eternal', 'earthly', 'solace', 'purity', 'essence']\n",
      "immortality ['immortality', 'heavenly', 'transcendent', 'happiness', 'divine', 'eternal', 'earthly', 'purity', 'solace', 'innate']\n",
      "immortality ['immortality', 'heavenly', 'transcendent', 'happiness', 'divine', 'eternal', 'earthly', 'purity', 'essence', 'solace']\n",
      "immortality ['immortality', 'happiness', 'heavenly', 'transcendent', 'divine', 'eternal', 'purity', 'solace', 'earthly', 'attain']\n",
      "immortality ['immortality', 'heavenly', 'transcendent', 'happiness', 'divine', 'earthly', 'eternal', 'solace', 'purity', 'essence']\n",
      "merit ['merit', 'exceptional', 'distinction', 'outstanding', 'achievement', 'exemplary', 'excellence', 'contribution', 'medal', 'consideration']\n",
      "merit ['merit', 'distinction', 'exceptional', 'outstanding', 'achievement', 'excellence', 'recognition', 'contribution', 'exemplary', 'medal']\n",
      "merit ['merit', 'exceptional', 'distinction', 'outstanding', 'achievement', 'excellence', 'exemplary', 'contribution', 'medal', 'recognition']\n",
      "merit ['merit', 'exceptional', 'distinction', 'outstanding', 'achievement', 'excellence', 'exemplary', 'contribution', 'medal', 'recognition']\n",
      "merit ['immortality', 'essence', 'genuine', 'knowledge', 'attain', 'quest', 'achieve', 'recognition', 'purity', 'happiness']\n",
      "merit ['merit', 'exceptional', 'distinction', 'outstanding', 'achievement', 'excellence', 'exemplary', 'contribution', 'medal', 'recognition']\n",
      "merit ['satisfy', 'manage', 'need', 'fail', 'depend', 'necessary', 'enable', 'assure', 'able', 'needs']\n",
      "merit ['merit', 'exceptional', 'distinction', 'outstanding', 'achievement', 'excellence', 'exemplary', 'medal', 'contribution', 'scholarship']\n",
      "merit ['merit', 'exceptional', 'distinction', 'outstanding', 'achievement', 'exemplary', 'excellence', 'medal', 'contribution', 'scholarship']\n",
      "merit ['merit', 'exceptional', 'distinction', 'outstanding', 'achievement', 'excellence', 'exemplary', 'contribution', 'medal', 'scholarship']\n",
      "merit ['merit', 'exceptional', 'distinction', 'outstanding', 'achievement', 'excellence', 'exemplary', 'medal', 'contribution', 'scholarship']\n",
      "merit ['merit', 'exceptional', 'distinction', 'outstanding', 'achievement', 'excellence', 'exemplary', 'medal', 'contribution', 'recognition']\n",
      "merit ['merit', 'exceptional', 'distinction', 'outstanding', 'achievement', 'exemplary', 'excellence', 'medal', 'contribution', 'scholarship']\n",
      "merit ['merit', 'exceptional', 'distinction', 'outstanding', 'achievement', 'exemplary', 'excellence', 'medal', 'contribution', 'consideration']\n",
      "incursion ['incursion', 'shelling', 'retaliation', 'raid', 'onslaught', 'strip', 'ambush', 'attack', 'withdrawal', 'blockade']\n",
      "incursion ['incursion', 'shelling', 'retaliation', 'raid', 'onslaught', 'strip', 'attack', 'withdrawal', 'ambush', 'unilateral']\n",
      "incursion ['incursion', 'shelling', 'retaliation', 'raid', 'strip', 'onslaught', 'ambush', 'withdrawal', 'attack', 'unilateral']\n",
      "incursion ['major', 'leading', 'significant', 'key', 'recent', 'addition', 'important', 'well', 'main', 'regional']\n",
      "incursion ['incursion', 'shelling', 'retaliation', 'raid', 'onslaught', 'strip', 'ambush', 'attack', 'blockade', 'unilateral']\n",
      "incursion ['incursion', 'shelling', 'retaliation', 'raid', 'onslaught', 'strip', 'ambush', 'attack', 'blockade', 'withdrawal']\n",
      "incursion ['incursion', 'shelling', 'retaliation', 'raid', 'onslaught', 'strip', 'attack', 'ambush', 'blockade', 'withdrawal']\n",
      "incursion ['incursion', 'shelling', 'retaliation', 'raid', 'onslaught', 'strip', 'ambush', 'attack', 'withdrawal', 'unilateral']\n",
      "kindly ['kindly', 'cheerfully', 'cranky', 'amused', 'polite', 'politely', 'incredulous', 'arrogant', 'bewildered', 'ignorant']\n",
      "kindly ['kindly', 'polite', 'cheerfully', 'arrogant', 'timid', 'cranky', 'amused', 'overbearing', 'politely', 'foolish']\n",
      "kindly ['kindly', 'gentleman', 'cranky', 'humble', 'politely', 'polite', 'mum', 'overbearing', 'timid', 'grumpy']\n",
      "kindly ['kindly', 'humble', 'polite', 'comfort', 'gentleman', 'liking', 'overbearing', 'loving', 'trusting', 'vain']\n",
      "kindly ['kindly', 'polite', 'cranky', 'arrogant', 'pompous', 'cheerfully', 'gracious', 'chuckle', 'gentleman', 'glib']\n",
      "kindly ['kindly', 'cranky', 'politely', 'bewildered', 'cheerfully', 'perplexed', 'incredulous', 'aghast', 'polite', 'mum']\n",
      "kindly ['kindly', 'cranky', 'politely', 'gentleman', 'pretended', 'polite', 'cheerfully', 'overbearing', 'humble', 'mum']\n",
      "kindly ['kindly', 'cranky', 'overbearing', 'gentleman', 'humble', 'pretended', 'politely', 'polite', 'mum', 'trusting']\n",
      "kindly ['kindly', 'gentleman', 'pretended', 'humble', 'vain', 'overbearing', 'loving', 'liking', 'polite', 'affectionate']\n",
      "kindly ['recombination', 'differentiation', 'replication', 'causal', 'inhibition', 'homology', 'sequential', 'exponential', 'discrete', 'chromosome']\n",
      "kindly ['truthful', 'plainly', 'persuasive', 'honest', 'disingenuous', 'respectful', 'polite', 'consciously', 'thoughtful', 'ethically']\n",
      "kindly ['truthful', 'honest', 'persuasive', 'disingenuous', 'plainly', 'kindly', 'foolish', 'polite', 'thoughtful', 'respectful']\n",
      "kindly ['respectful', 'plainly', 'polite', 'hypocritical', 'kindly', 'insistent', 'dislike', 'compassionate', 'apologetic', 'trusting']\n",
      "kindly ['kindly', 'overbearing', 'cranky', 'humble', 'pretended', 'vain', 'gentleman', 'timid', 'polite', 'trusting']\n",
      "kindly ['kindly', 'glib', 'chuckle', 'cheerfully', 'polite', 'pretentious', 'incredulous', 'amused', 'pompous', 'wry']\n",
      "kindly ['glib', 'kindly', 'polite', 'pretentious', 'pompous', 'cheerfully', 'cranky', 'erudite', 'chuckle', 'fussy']\n",
      "kindly ['recombination', 'differentiation', 'chromosome', 'inhibition', 'homology', 'replication', 'exponential', 'adhesion', 'causal', 'sequential']\n",
      "kindly ['kindly', 'spouse', 'pretended', 'vain', 'trusting', 'overbearing', 'liking', 'betray', 'loving', 'humble']\n",
      "kindly ['kindly', 'cranky', 'polite', 'overbearing', 'pretended', 'gentleman', 'politely', 'humble', 'timid', 'vain']\n",
      "align ['align', 'define', 'correspond', 'strive', 'cohesion', 'govern', 'convergence', 'transferable', 'balance', 'fold']\n",
      "align ['align', 'core', 'define', 'necessarily', 'satisfy', 'entity', 'conversely', 'equal', 'achieve', 'balance']\n",
      "align ['align', 'correspond', 'define', 'convergence', 'transferable', 'denote', 'conversely', 'bracket', 'cohesion', 'strive']\n",
      "align ['align', 'correspond', 'define', 'convergence', 'denote', 'cohesion', 'transferable', 'lastly', 'conversely', 'strive']\n",
      "align ['align', 'correspond', 'define', 'convergence', 'denote', 'transferable', 'cohesion', 'conversely', 'lastly', 'strive']\n",
      "align ['align', 'define', 'satisfy', 'conversely', 'differentiate', 'necessarily', 'core', 'strive', 'correspond', 'bind']\n",
      "align ['align', 'correspond', 'define', 'convergence', 'denote', 'transferable', 'cohesion', 'conversely', 'lastly', 'strive']\n",
      "align ['align', 'correspond', 'define', 'convergence', 'denote', 'transferable', 'cohesion', 'conversely', 'lastly', 'strive']\n",
      "pluralism ['pluralism', 'openness', 'tolerance', 'atheism', 'humanism', 'discourse', 'liberalism', 'equality', 'secularism', 'democracy']\n",
      "pluralism ['pluralism', 'tolerance', 'humanism', 'secularism', 'liberalism', 'atheism', 'discourse', 'openness', 'religion', 'equality']\n",
      "pluralism ['pluralism', 'humanism', 'secularism', 'tolerance', 'openness', 'liberalism', 'atheism', 'discourse', 'materialism', 'rationality']\n",
      "pluralism ['pluralism', 'openness', 'atheism', 'tolerance', 'humanism', 'selfishness', 'equate', 'affirmation', 'stifled', 'secularism']\n"
     ]
    },
    {
     "name": "stdout",
     "output_type": "stream",
     "text": [
      "pluralism ['pluralism', 'openness', 'humanism', 'secularism', 'discourse', 'atheism', 'democracy', 'tolerance', 'liberalism', 'relevance']\n",
      "pluralism ['pluralism', 'tolerance', 'humanism', 'liberalism', 'discourse', 'secularism', 'religion', 'openness', 'atheism', 'ideology']\n",
      "revamp ['revamp', 'expand', 'plan', 'consolidate', 'oversee', 'integrate', 'create', 'strategy', 'funding', 'merge']\n",
      "revamp ['revamp', 'expand', 'oversee', 'overhaul', 'divest', 'merge', 'reorganization', 'plan', 'simplify', 'funding']\n",
      "revamp ['revamp', 'divest', 'consolidate', 'expand', 'overhaul', 'merge', 'strengthen', 'consolidation', 'govern', 'enlarge']\n",
      "revamp ['revamp', 'divest', 'consolidate', 'expand', 'consolidation', 'overhaul', 'strengthen', 'merge', 'reorganization', 'plan']\n",
      "revamp ['core', 'component', 'data', 'consumer', 'key', 'sector', 'regional', 'expand', 'manufacturing', 'joint']\n",
      "revamp ['revamp', 'consolidation', 'overhaul', 'simplify', 'tighten', 'reshape', 'bureaucracy', 'budget', 'spending', 'lending']\n",
      "satisfy ['satisfy', 'regardless', 'retain', 'necessarily', 'necessary', 'need', 'maintain', 'guarantee', 'obligation', 'depend']\n",
      "satisfy ['kindly', 'person', 'knowing', 'advice', 'comfort', 'wise', 'always', 'good', 'ask', 'feel']\n",
      "satisfy ['satisfy', 'enable', 'need', 'necessary', 'needs', 'depend', 'guarantee', 'fail', 'maintain', 'able']\n",
      "satisfy ['satisfy', 'enable', 'maintain', 'necessary', 'need', 'guarantee', 'needs', 'depend', 'leverage', 'establish']\n",
      "satisfy ['align', 'necessarily', 'acceptable', 'satisfy', 'define', 'regardless', 'merely', 'rational', 'intend', 'honest']\n",
      "satisfy ['satisfy', 'necessarily', 'legitimate', 'achieve', 'regardless', 'desire', 'purpose', 'acceptance', 'necessary', 'demonstrate']\n",
      "satisfy ['satisfy', 'enable', 'necessary', 'leverage', 'depend', 'fail', 'regardless', 'guarantee', 'create', 'need']\n",
      "satisfy ['inquiring', 'inquire', 'questioner', 'cheerfully', 'politely', 'whim', 'eavesdrop', 'patiently', 'honestly', 'pretended']\n",
      "satisfy ['satisfy', 'fail', 'depend', 'manage', 'need', 'enable', 'necessary', 'able', 'assure', 'rely']\n",
      "satisfy ['satisfy', 'need', 'manage', 'fail', 'depend', 'necessary', 'able', 'enable', 'assure', 'needs']\n",
      "satisfy ['satisfy', 'manage', 'need', 'fail', 'depend', 'necessary', 'enable', 'assure', 'able', 'needs']\n",
      "satisfy ['enable', 'establish', 'govern', 'satisfy', 'expand', 'consolidate', 'encourage', 'maintain', 'integrate', 'guarantee']\n",
      "satisfy ['judgment', 'merely', 'reasonable', 'truthful', 'explanation', 'honest', 'answer', 'prove', 'appropriate', 'consideration']\n",
      "satisfy ['satisfy', 'depend', 'need', 'necessarily', 'opportunity', 'necessary', 'regardless', 'manage', 'able', 'fail']\n",
      "satisfy ['divest', 'insure', 'satisfy', 'govern', 'incentive', 'intend', 'assure', 'guarantee', 'fulfill', 'enable']\n",
      "satisfy ['satisfy', 'assure', 'fail', 'necessary', 'depend', 'need', 'regardless', 'enable', 'necessarily', 'rely']\n",
      "satisfy ['satisfy', 'need', 'fail', 'assure', 'depend', 'rely', 'accept', 'necessary', 'necessarily', 'able']\n",
      "pace ['pace', 'slow', 'steady', 'fast', 'momentum', 'growth', 'rebound', 'brisk', 'robust', 'sharp']\n",
      "pace ['pace', 'slow', 'steady', 'fast', 'momentum', 'growth', 'rebound', 'brisk', 'robust', 'sharp']\n",
      "pace ['pace', 'slow', 'steady', 'fast', 'momentum', 'growth', 'brisk', 'rebound', 'robust', 'recovery']\n",
      "pace ['pace', 'slow', 'steady', 'fast', 'momentum', 'growth', 'brisk', 'rebound', 'robust', 'recovery']\n",
      "pace ['pace', 'slow', 'fast', 'steady', 'momentum', 'growth', 'rebound', 'brisk', 'robust', 'start']\n",
      "pace ['pace', 'slow', 'steady', 'fast', 'momentum', 'brisk', 'growth', 'rebound', 'robust', 'sluggish']\n",
      "pace ['pace', 'slow', 'steady', 'fast', 'momentum', 'brisk', 'rebound', 'robust', 'growth', 'sharp']\n",
      "pace ['pace', 'slow', 'steady', 'fast', 'momentum', 'growth', 'brisk', 'rebound', 'robust', 'sluggish']\n",
      "pace ['pace', 'slow', 'steady', 'fast', 'momentum', 'rebound', 'brisk', 'growth', 'robust', 'sharp']\n",
      "pace ['pace', 'slow', 'steady', 'fast', 'momentum', 'growth', 'brisk', 'rebound', 'robust', 'sluggish']\n",
      "pace ['pace', 'slow', 'steady', 'fast', 'momentum', 'brisk', 'growth', 'rebound', 'robust', 'sluggish']\n",
      "pace ['pace', 'slow', 'steady', 'fast', 'momentum', 'growth', 'brisk', 'rebound', 'robust', 'sluggish']\n",
      "pace ['pace', 'slow', 'steady', 'fast', 'momentum', 'growth', 'rebound', 'robust', 'brisk', 'recovery']\n",
      "pace ['pace', 'slow', 'steady', 'fast', 'momentum', 'growth', 'rebound', 'brisk', 'robust', 'sharp']\n",
      "pace ['pace', 'slow', 'steady', 'fast', 'momentum', 'brisk', 'growth', 'robust', 'rebound', 'sluggish']\n",
      "pace ['pace', 'slow', 'steady', 'fast', 'momentum', 'rebound', 'growth', 'brisk', 'robust', 'sharp']\n",
      "pace ['pace', 'slow', 'steady', 'fast', 'momentum', 'growth', 'brisk', 'robust', 'rebound', 'sluggish']\n",
      "pace ['pace', 'slow', 'steady', 'fast', 'momentum', 'growth', 'rebound', 'brisk', 'robust', 'sharp']\n",
      "pace ['pace', 'slow', 'steady', 'fast', 'momentum', 'growth', 'brisk', 'rebound', 'robust', 'recovery']\n",
      "pace ['pace', 'slow', 'steady', 'fast', 'momentum', 'brisk', 'growth', 'rebound', 'robust', 'sluggish']\n",
      "echelon ['scaled', 'scaling', 'range', 'fixed', 'target', 'tandem', 'short', 'upward', 'mid', 'climb']\n",
      "echelon ['scaled', 'gearing', 'scaling', 'participation', 'echelon', 'contingent', 'tandem', 'military', 'membership', 'provisional']\n",
      "echelon ['small', 'branch', 'central', 'frontier', 'large', 'main', 'system', 'force', 'base', 'unit']\n",
      "scaled ['scaled', 'scaling', 'climb', 'upward', 'steeply', 'vertically', 'hover', 'orbit', 'modestly', 'considerably']\n",
      "scaled ['scaled', 'scaling', 'climb', 'upward', 'tandem', 'gearing', 'modestly', 'substantially', 'ramp', 'considerably']\n",
      "scaled ['scaled', 'scaling', 'climb', 'upward', 'steeply', 'hover', 'vertically', 'orbit', 'gearing', 'ramp']\n",
      "scaled ['scaled', 'scaling', 'upward', 'climb', 'steeply', 'dramatically', 'vertically', 'considerably', 'gearing', 'hover']\n",
      "scaled ['scaled', 'scaling', 'upward', 'climb', 'steeply', 'hover', 'gearing', 'vertically', 'dramatically', 'orbit']\n",
      "scaled ['scaled', 'scaling', 'climb', 'upward', 'steeply', 'gearing', 'dramatically', 'hover', 'downward', 'significantly']\n",
      "scaled ['scaled', 'scaling', 'climb', 'upward', 'steeply', 'hover', 'vertically', 'orbit', 'gearing', 'ramp']\n",
      "scaled ['scaled', 'scaling', 'climb', 'upward', 'steeply', 'vertically', 'orbit', 'hover', 'unmanned', 'runway']\n",
      "truthful ['truthful', 'plainly', 'persuasive', 'honest', 'vague', 'straightforward', 'incorrect', 'consciously', 'candid', 'disingenuous']\n"
     ]
    }
   ],
   "source": [
    "\n",
    "for i in range(250, 800): #len(definition_indices)\n",
    "    if count >= 300:\n",
    "        break\n",
    "    x = torch.tensor(definition_indices[i])\n",
    "    #print(x.shape)\n",
    "    init_hidden = model.initHidden()\n",
    "    tag_scores = model.forward(x.view(x.shape[0], 1), init_hidden)\n",
    "    #print(tag_scores[0].shape, y.shape)\n",
    "    if words[i] in validate_dict: \n",
    "        count += 1\n",
    "        #print(words[i])\n",
    "        y_array = np.array(glove_dict[words[i]]) if words[i] in glove_dict else np.random.normal(scale=0.6, size=(50,))\n",
    "        y = torch.tensor(y).double()\n",
    "        y_pred = tag_scores[0].view((tag_scores[0].shape[2])).double()\n",
    "        eval.top_ten_hundred(validate_dict, words[i], y_pred.detach().numpy())\n"
   ]
  },
  {
   "cell_type": "markdown",
   "metadata": {},
   "source": [
    "## print(eval.compute_th_accuracy())"
   ]
  },
  {
   "cell_type": "code",
   "execution_count": 16,
   "metadata": {},
   "outputs": [
    {
     "name": "stdout",
     "output_type": "stream",
     "text": [
      "(253, 266, 300)\n"
     ]
    }
   ],
   "source": [
    "print(eval.compute_th_accuracy())"
   ]
  },
  {
   "cell_type": "code",
   "execution_count": null,
   "metadata": {},
   "outputs": [],
   "source": []
  }
 ],
 "metadata": {
  "kernelspec": {
   "display_name": "Python 3",
   "language": "python",
   "name": "python3"
  },
  "language_info": {
   "codemirror_mode": {
    "name": "ipython",
    "version": 3
   },
   "file_extension": ".py",
   "mimetype": "text/x-python",
   "name": "python",
   "nbconvert_exporter": "python",
   "pygments_lexer": "ipython3",
   "version": "3.5.6"
  }
 },
 "nbformat": 4,
 "nbformat_minor": 4
}
