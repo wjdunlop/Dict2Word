{
 "cells": [
  {
   "cell_type": "code",
   "execution_count": 1,
   "metadata": {},
   "outputs": [
    {
     "name": "stdout",
     "output_type": "stream",
     "text": [
      "[nltk_data] Downloading package punkt to /Users/yuloucn/nltk_data...\n",
      "[nltk_data]   Package punkt is already up-to-date!\n"
     ]
    }
   ],
   "source": [
    "import numpy as np\n",
    "from collections import namedtuple\n",
    "import sys\n",
    "from typing import List, Tuple, Dict, Set, Union\n",
    "import torch\n",
    "import torch.nn as nn\n",
    "import torch.nn.utils\n",
    "import torch.nn.functional as F\n",
    "from torch.nn.utils.rnn import pad_packed_sequence, pack_padded_sequence\n",
    "from nltk import word_tokenize\n",
    "\n",
    "#from model_embeddings import ModelEmbeddings\n",
    "from evaluator import Evaluator\n",
    "from vocab import Vocab, VocabEntry\n",
    "from utils import read_corpus, pad_sents\n",
    "Hypothesis = namedtuple('Hypothesis', ['value', 'score'])"
   ]
  },
  {
   "cell_type": "code",
   "execution_count": 2,
   "metadata": {},
   "outputs": [],
   "source": [
    "definitions = []\n",
    "unparsed_definition = []\n",
    "words = []\n",
    "src_sents = read_corpus('../data/data_train_definitions.txt')"
   ]
  },
  {
   "cell_type": "code",
   "execution_count": 3,
   "metadata": {},
   "outputs": [],
   "source": [
    "with open('../data/data_train_words.txt') as f:\n",
    "    words += f.read().splitlines()\n",
    "    \n",
    "with open('../data/data_train_definitions.txt') as f:\n",
    "    unparsed_definition += f.read().splitlines()\n",
    "    definitions += [word_tokenize(a) for a in unparsed_definition]"
   ]
  },
  {
   "cell_type": "code",
   "execution_count": 4,
   "metadata": {},
   "outputs": [],
   "source": [
    "assert(len(words) == len(definitions))"
   ]
  },
  {
   "cell_type": "code",
   "execution_count": 5,
   "metadata": {},
   "outputs": [
    {
     "name": "stdout",
     "output_type": "stream",
     "text": [
      "number of word types: 23452, number of word types w/ frequency >= 0: 23452\n"
     ]
    }
   ],
   "source": [
    "eval = Evaluator()\n",
    "glove_dict = eval.load_glove_embeddings(max_line = 50000)\n",
    "\n",
    "src_sents = read_corpus('../data/data_train_definitions.txt')\n",
    "vocab = VocabEntry.from_corpus(src_sents, 30000, 0)"
   ]
  },
  {
   "cell_type": "code",
   "execution_count": 6,
   "metadata": {},
   "outputs": [],
   "source": [
    "def create_emb_layer(weights_matrix, src_pad_token_idx, non_trainable=False):\n",
    "    num_embeddings, embedding_dim = weights_matrix.shape\n",
    "    emb_layer = nn.Embedding(num_embeddings, embedding_dim, src_pad_token_idx)\n",
    "    emb_layer.weight.data.copy_(torch.from_numpy(weights_matrix)) #figure out what is here\n",
    "    if non_trainable:\n",
    "        emb_layer.weight.requires_grad = False\n",
    "    return emb_layer, num_embeddings, embedding_dim\n",
    "\n",
    "class ModelEmbeddings(nn.Module): \n",
    "    \"\"\"\n",
    "    Class that converts input words to their embeddings.\n",
    "    \"\"\"\n",
    "\n",
    "    def __init__(self, embed_size, vocab, glove_dict):\n",
    "        \"\"\"\n",
    "        Init the Embedding layers.\n",
    "\n",
    "        @param embed_size (int): Embedding size (dimensionality)\n",
    "        @param vocab (VocabEntry)\n",
    "        \"\"\"\n",
    "        super(ModelEmbeddings, self).__init__()\n",
    "\n",
    "        self.embed_size = embed_size\n",
    "\n",
    "        matrix_len = len(vocab)\n",
    "        weights_matrix = np.zeros((matrix_len, self.embed_size))\n",
    "        words_found = 0\n",
    "        #print(len(vocab), weights_matrix.shape)\n",
    "        for word, index in vocab.word2id.items():\n",
    "            try:\n",
    "                weights_matrix[index] = np.array(glove_dict[word])\n",
    "                words_found += 1\n",
    "            except KeyError:\n",
    "                weights_matrix[index] = np.random.normal(scale=0.6, size=(self.embed_size,))\n",
    "\n",
    "        # default values\n",
    "        src_pad_token_idx = vocab['<pad>']\n",
    "        self.source = create_emb_layer(weights_matrix, src_pad_token_idx, True)\n",
    "        ### END YOUR CODE\n"
   ]
  },
  {
   "cell_type": "code",
   "execution_count": 7,
   "metadata": {},
   "outputs": [],
   "source": [
    "class EncoderRNN(nn.Module):\n",
    "    def __init__(self, input_size, hidden_size, vocab, glove_dict):\n",
    "        super(EncoderRNN, self).__init__()\n",
    "        self.hidden_size = hidden_size\n",
    "        self.embedding = ModelEmbeddings(input_size, vocab, glove_dict)\n",
    "        self.gru = nn.GRU(input_size, hidden_size)\n",
    "        self.linear = nn.Linear(self.hidden_size, self.hidden_size, bias = False)\n",
    "\n",
    "    def forward(self, input_, hidden):\n",
    "        embedded = self.embedding.source[0](input_)\n",
    "        output = embedded\n",
    "        output, hidden = self.gru(output, hidden)\n",
    "        projected = self.linear(hidden.permute(1,0,2))\n",
    "        return projected, hidden\n",
    "\n",
    "    def initHidden(self, device = None):\n",
    "        return torch.zeros(1, 1, self.hidden_size, device=device)"
   ]
  },
  {
   "cell_type": "code",
   "execution_count": 8,
   "metadata": {},
   "outputs": [],
   "source": [
    "model = EncoderRNN(50, 50, vocab, glove_dict)\n",
    "loss_function = nn.SmoothL1Loss(reduction = \"sum\")\n",
    "optimizer = torch.optim.SGD(model.parameters(), lr=1e-2, momentum=0.9)"
   ]
  },
  {
   "cell_type": "code",
   "execution_count": null,
   "metadata": {},
   "outputs": [],
   "source": []
  },
  {
   "cell_type": "code",
   "execution_count": 9,
   "metadata": {},
   "outputs": [
    {
     "name": "stdout",
     "output_type": "stream",
     "text": [
      "0 tensor(7.1949, dtype=torch.float64, grad_fn=<SmoothL1LossBackward>)\n",
      "100 tensor(6.1411, dtype=torch.float64, grad_fn=<SmoothL1LossBackward>)\n",
      "200 tensor(6.0707, dtype=torch.float64, grad_fn=<SmoothL1LossBackward>)\n",
      "300 tensor(6.7015, dtype=torch.float64, grad_fn=<SmoothL1LossBackward>)\n",
      "400 tensor(6.7902, dtype=torch.float64, grad_fn=<SmoothL1LossBackward>)\n",
      "500 tensor(6.0770, dtype=torch.float64, grad_fn=<SmoothL1LossBackward>)\n",
      "600 tensor(6.0715, dtype=torch.float64, grad_fn=<SmoothL1LossBackward>)\n",
      "700 tensor(6.6887, dtype=torch.float64, grad_fn=<SmoothL1LossBackward>)\n",
      "800 tensor(6.3561, dtype=torch.float64, grad_fn=<SmoothL1LossBackward>)\n",
      "900 tensor(6.7868, dtype=torch.float64, grad_fn=<SmoothL1LossBackward>)\n",
      "1000 tensor(6.7812, dtype=torch.float64, grad_fn=<SmoothL1LossBackward>)\n",
      "1100 tensor(6.7899, dtype=torch.float64, grad_fn=<SmoothL1LossBackward>)\n",
      "1200 tensor(6.7870, dtype=torch.float64, grad_fn=<SmoothL1LossBackward>)\n",
      "1300 tensor(6.7891, dtype=torch.float64, grad_fn=<SmoothL1LossBackward>)\n",
      "1400 tensor(6.7898, dtype=torch.float64, grad_fn=<SmoothL1LossBackward>)\n",
      "1500 tensor(6.7932, dtype=torch.float64, grad_fn=<SmoothL1LossBackward>)\n",
      "1600 tensor(6.7890, dtype=torch.float64, grad_fn=<SmoothL1LossBackward>)\n",
      "1700 tensor(6.7916, dtype=torch.float64, grad_fn=<SmoothL1LossBackward>)\n",
      "1800 tensor(6.7923, dtype=torch.float64, grad_fn=<SmoothL1LossBackward>)\n",
      "1900 tensor(6.7914, dtype=torch.float64, grad_fn=<SmoothL1LossBackward>)\n"
     ]
    },
    {
     "ename": "KeyboardInterrupt",
     "evalue": "",
     "output_type": "error",
     "traceback": [
      "\u001b[0;31m---------------------------------------------------------------------------\u001b[0m",
      "\u001b[0;31mKeyboardInterrupt\u001b[0m                         Traceback (most recent call last)",
      "\u001b[0;32m<ipython-input-9-f3ab2bc9e7fd>\u001b[0m in \u001b[0;36m<module>\u001b[0;34m\u001b[0m\n\u001b[1;32m     21\u001b[0m         \u001b[0mloss\u001b[0m \u001b[0;34m=\u001b[0m \u001b[0mloss_function\u001b[0m\u001b[0;34m(\u001b[0m\u001b[0my_pred\u001b[0m\u001b[0;34m,\u001b[0m \u001b[0my\u001b[0m\u001b[0;34m)\u001b[0m\u001b[0;34m\u001b[0m\u001b[0m\n\u001b[1;32m     22\u001b[0m \u001b[0;34m\u001b[0m\u001b[0m\n\u001b[0;32m---> 23\u001b[0;31m         \u001b[0mloss\u001b[0m\u001b[0;34m.\u001b[0m\u001b[0mbackward\u001b[0m\u001b[0;34m(\u001b[0m\u001b[0;34m)\u001b[0m\u001b[0;34m\u001b[0m\u001b[0m\n\u001b[0m\u001b[1;32m     24\u001b[0m         \u001b[0moptimizer\u001b[0m\u001b[0;34m.\u001b[0m\u001b[0mstep\u001b[0m\u001b[0;34m(\u001b[0m\u001b[0;34m)\u001b[0m\u001b[0;34m\u001b[0m\u001b[0m\n\u001b[1;32m     25\u001b[0m     \u001b[0mlosses\u001b[0m\u001b[0;34m.\u001b[0m\u001b[0mappend\u001b[0m\u001b[0;34m(\u001b[0m\u001b[0mloss\u001b[0m\u001b[0;34m)\u001b[0m\u001b[0;34m\u001b[0m\u001b[0m\n",
      "\u001b[0;32m~/opt/miniconda3/envs/local_nmt/lib/python3.5/site-packages/torch/tensor.py\u001b[0m in \u001b[0;36mbackward\u001b[0;34m(self, gradient, retain_graph, create_graph)\u001b[0m\n\u001b[1;32m    193\u001b[0m                 \u001b[0mproducts\u001b[0m\u001b[0;34m.\u001b[0m \u001b[0mDefaults\u001b[0m \u001b[0mto\u001b[0m\u001b[0;31m \u001b[0m\u001b[0;31m`\u001b[0m\u001b[0;31m`\u001b[0m\u001b[0;32mFalse\u001b[0m\u001b[0;31m`\u001b[0m\u001b[0;31m`\u001b[0m\u001b[0;34m.\u001b[0m\u001b[0;34m\u001b[0m\u001b[0m\n\u001b[1;32m    194\u001b[0m         \"\"\"\n\u001b[0;32m--> 195\u001b[0;31m         \u001b[0mtorch\u001b[0m\u001b[0;34m.\u001b[0m\u001b[0mautograd\u001b[0m\u001b[0;34m.\u001b[0m\u001b[0mbackward\u001b[0m\u001b[0;34m(\u001b[0m\u001b[0mself\u001b[0m\u001b[0;34m,\u001b[0m \u001b[0mgradient\u001b[0m\u001b[0;34m,\u001b[0m \u001b[0mretain_graph\u001b[0m\u001b[0;34m,\u001b[0m \u001b[0mcreate_graph\u001b[0m\u001b[0;34m)\u001b[0m\u001b[0;34m\u001b[0m\u001b[0m\n\u001b[0m\u001b[1;32m    196\u001b[0m \u001b[0;34m\u001b[0m\u001b[0m\n\u001b[1;32m    197\u001b[0m     \u001b[0;32mdef\u001b[0m \u001b[0mregister_hook\u001b[0m\u001b[0;34m(\u001b[0m\u001b[0mself\u001b[0m\u001b[0;34m,\u001b[0m \u001b[0mhook\u001b[0m\u001b[0;34m)\u001b[0m\u001b[0;34m:\u001b[0m\u001b[0;34m\u001b[0m\u001b[0m\n",
      "\u001b[0;32m~/opt/miniconda3/envs/local_nmt/lib/python3.5/site-packages/torch/autograd/__init__.py\u001b[0m in \u001b[0;36mbackward\u001b[0;34m(tensors, grad_tensors, retain_graph, create_graph, grad_variables)\u001b[0m\n\u001b[1;32m     97\u001b[0m     Variable._execution_engine.run_backward(\n\u001b[1;32m     98\u001b[0m         \u001b[0mtensors\u001b[0m\u001b[0;34m,\u001b[0m \u001b[0mgrad_tensors\u001b[0m\u001b[0;34m,\u001b[0m \u001b[0mretain_graph\u001b[0m\u001b[0;34m,\u001b[0m \u001b[0mcreate_graph\u001b[0m\u001b[0;34m,\u001b[0m\u001b[0;34m\u001b[0m\u001b[0m\n\u001b[0;32m---> 99\u001b[0;31m         allow_unreachable=True)  # allow_unreachable flag\n\u001b[0m\u001b[1;32m    100\u001b[0m \u001b[0;34m\u001b[0m\u001b[0m\n\u001b[1;32m    101\u001b[0m \u001b[0;34m\u001b[0m\u001b[0m\n",
      "\u001b[0;31mKeyboardInterrupt\u001b[0m: "
     ]
    }
   ],
   "source": [
    "definition_indices = vocab.words2indices(definitions)\n",
    "words_in = 0\n",
    "words_out = 0\n",
    "\n",
    "import timeit\n",
    "start = timeit.default_timer()\n",
    "losses = []\n",
    "for epoch in range(6000):  # again, normally you would NOT do 300 epochs, it is toy data\n",
    "    for i in range(1600): #should be range(len(definition_indices))\n",
    "        if words[i] not in glove_dict: \n",
    "            continue\n",
    "        model.zero_grad()\n",
    "        x = torch.tensor(definition_indices[i])\n",
    "\n",
    "        init_hidden = model.initHidden()\n",
    "        tag_scores = model.forward(x.view(x.shape[0], 1), init_hidden)\n",
    "        y_array = np.array(glove_dict[words[i]]) if words[i] in glove_dict else np.random.normal(scale=0.6, size=(50,))\n",
    "        y = torch.tensor(y_array).double()\n",
    "        y_pred = tag_scores[0].view((tag_scores[0].shape[2])).double()\n",
    "\n",
    "        loss = loss_function(y_pred, y)\n",
    "\n",
    "        loss.backward()\n",
    "        optimizer.step()\n",
    "    losses.append(loss)\n",
    "    if epoch % 100 == 0:\n",
    "        print(epoch, loss)\n",
    "    \n",
    "stop = timeit.default_timer()\n",
    "\n",
    "print('Time: ', stop - start)"
   ]
  },
  {
   "cell_type": "code",
   "execution_count": 12,
   "metadata": {},
   "outputs": [
    {
     "name": "stdout",
     "output_type": "stream",
     "text": [
      "[<matplotlib.lines.Line2D object at 0x1a392b13c8>]\n"
     ]
    },
    {
     "data": {
      "image/png": "[encoded data removed]",
      "text/plain": [
       "<Figure size 432x288 with 1 Axes>"
      ]
     },
     "metadata": {
      "needs_background": "light"
     },
     "output_type": "display_data"
    }
   ],
   "source": [
    "import matplotlib.pyplot as plt\n",
    "print(plt.plot([l.double() for l in losses]))"
   ]
  },
  {
   "cell_type": "code",
   "execution_count": 11,
   "metadata": {},
   "outputs": [],
   "source": [
    "validate_dict = {}\n",
    "with open('../data/data_train_words.txt') as f:\n",
    "    lines = f.readlines()\n",
    "lines = [line[:-1] for line in lines]\n",
    "validate_words = sorted(list(set(lines)))\n",
    "for word in validate_words:\n",
    "    if word in glove_dict:\n",
    "        validate_dict[word] = glove_dict[word]"
   ]
  },
  {
   "cell_type": "code",
   "execution_count": 13,
   "metadata": {},
   "outputs": [
    {
     "name": "stderr",
     "output_type": "stream",
     "text": [
      "/Users/yuloucn/opt/miniconda3/envs/local_nmt/lib/python3.5/site-packages/ipykernel_launcher.py:14: UserWarning: To copy construct from a tensor, it is recommended to use sourceTensor.clone().detach() or sourceTensor.clone().detach().requires_grad_(True), rather than torch.tensor(sourceTensor).\n",
      "  \n"
     ]
    },
    {
     "name": "stdout",
     "output_type": "stream",
     "text": [
      "fault ['fault', 'problem', 'lie', 'prone', 'error', 'difficult', 'somehow', 'nowhere', 'mistake', 'extent']\n",
      "fault ['fault', 'problem', 'lie', 'prone', 'error', 'difficult', 'nowhere', 'mistake', 'defect', 'somehow']\n",
      "fault ['fault', 'problem', 'lie', 'prone', 'error', 'difficult', 'somehow', 'nowhere', 'extent', 'defect']\n",
      "fault ['inevitably', 'arise', 'chaos', 'disconnect', 'uncertainty', 'turbulence', 'commotion', 'tension', 'constant', 'inevitable']\n",
      "fault ['fault', 'problem', 'lie', 'prone', 'error', 'difficult', 'nowhere', 'defect', 'mistake', 'somehow']\n",
      "fault ['satisfy', 'fail', 'intend', 'convince', 'agree', 'continue', 'threaten', 'seek', 'desire', 'inability']\n",
      "fault ['posture', 'shape', 'core', 'rigid', 'hierarchy', 'orientation', 'flexible', 'component', 'position', 'element']\n",
      "fault ['tip', 'mouth', 'fault', 'tiny', 'deep', 'edge', 'finger', 'narrow', 'rim', 'turn']\n",
      "fault ['tip', 'mouth', 'fault', 'tiny', 'edge', 'border', 'crossing', 'portion', 'lying', 'point']\n",
      "fault ['fault', 'problem', 'lie', 'prone', 'error', 'difficult', 'nowhere', 'mistake', 'somehow', 'defect']\n",
      "fault ['fault', 'problem', 'lie', 'prone', 'error', 'difficult', 'nowhere', 'defect', 'mistake', 'somehow']\n",
      "fault ['add', 'slice', 'fold', 'hold', 'arrange', 'give', 'remove', 'prepared', 'send', 'serve']\n",
      "fault ['fault', 'problem', 'lie', 'prone', 'error', 'difficult', 'defect', 'nowhere', 'mistake', 'extent']\n",
      "fault ['fault', 'problem', 'lie', 'prone', 'error', 'difficult', 'defect', 'nowhere', 'mistake', 'somehow']\n",
      "fault ['tip', 'crossing', 'portion', 'fault', 'mouth', 'border', 'rim', 'narrow', 'tiny', 'stream']\n",
      "fault ['fault', 'problem', 'lie', 'prone', 'error', 'difficult', 'mistake', 'somehow', 'nowhere', 'extent']\n",
      "fault ['fault', 'problem', 'lie', 'prone', 'error', 'difficult', 'nowhere', 'somehow', 'mistake', 'defect']\n",
      "stringer ['freeman', 'cooper', 'fisher', 'griffin', 'wheeler', 'peck', 'mason', 'porter', 'barker', 'smith']\n",
      "stringer ['shrinkage', 'contraction', 'accumulation', 'evaporation', 'discernible', 'deformation', 'dislocation', 'atrophy', 'cortical', 'rupture']\n",
      "stringer ['glib', 'polite', 'dismissive', 'bristle', 'kindly', 'whisper', 'sarcastic', 'cheerfully', 'chuckle', 'disdain']\n",
      "stringer ['sparkling', 'crisp', 'taste', 'creamy', 'blend', 'tasting', 'flavor', 'refreshing', 'glaze', 'earthy']\n",
      "stringer ['griffin', 'peck', 'freeman', 'wheeler', 'cooper', 'fisher', 'bender', 'barker', 'pollack', 'sawyer']\n",
      "stringer ['bender', 'stringer', 'griffin', 'dickey', 'freedman', 'fisher', 'rouse', 'bowman', 'mason', 'dexter']\n",
      "gendarmerie ['gendarmerie', 'unit', 'auxiliary', 'unitary', 'cadre', 'grenadier', 'brigade', 'directorate', 'division', 'battalion']\n",
      "gendarmerie ['gendarmerie', 'sable', 'hydra', 'helmeted', 'grenadier', 'tracer', 'armored', 'detachment', 'garibaldi', 'brigade']\n",
      "gendarmerie ['gendarmerie', 'unit', 'auxiliary', 'unitary', 'cadre', 'grenadier', 'brigade', 'directorate', 'division', 'battalion']\n",
      "gendarmerie ['gendarmerie', 'sable', 'hydra', 'helmeted', 'grenadier', 'tracer', 'armored', 'garibaldi', 'detachment', 'brigade']\n",
      "meddling ['accountable', 'adequately', 'ignore', 'assure', 'legitimate', 'empower', 'deprive', 'punish', 'interfere', 'inform']\n",
      "meddling ['fervent', 'ardent', 'passionate', 'believer', 'fervor', 'zealous', 'admiration', 'disdain', 'devotion', 'embrace']\n",
      "meddling ['betray', 'inquiring', 'sympathize', 'ignore', 'plainly', 'dramatize', 'frankly', 'honestly', 'perceive', 'hurtful']\n",
      "recombination ['inverse', 'differentiation', 'exponential', 'recombination', 'generalized', 'discrete', 'inhibition', 'probability', 'computation', 'differential']\n",
      "recombination ['inverse', 'differentiation', 'exponential', 'discrete', 'computation', 'recombination', 'inhibition', 'probability', 'generalized', 'differential']\n",
      "recombination ['inverse', 'discrete', 'differentiation', 'exponential', 'spatial', 'computation', 'binary', 'generalized', 'probability', 'differential']\n",
      "recombination ['hierarchy', 'posture', 'orientation', 'core', 'paradigm', 'rigid', 'function', 'define', 'component', 'position']\n",
      "bristle ['surge', 'decline', 'decrease', 'offset', 'growth', 'drop', 'contraction', 'increase', 'shrinkage', 'slump']\n",
      "bristle ['bristle', 'glib', 'tongued', 'frown', 'kindly', 'pompous', 'faintly', 'characteristically', 'grin', 'mischievous']\n",
      "bristle ['kindly', 'ignore', 'dislike', 'shrug', 'frown', 'betray', 'embrace', 'suggestion', 'hint', 'countenance']\n",
      "bristle ['bristle', 'glib', 'tongued', 'characteristically', 'kindly', 'grin', 'chuckle', 'whisper', 'sarcastic', 'mischievous']\n",
      "bristle ['ethylene', 'urea', 'oxide', 'nitrogen', 'fertilizer', 'catalytic', 'lithium', 'manganese', 'benzene', 'chloride']\n",
      "bristle ['bristle', 'glib', 'tongued', 'characteristically', 'kindly', 'grin', 'chuckle', 'sarcastic', 'pompous', 'mischievous']\n",
      "bristle ['bristle', 'glib', 'tongued', 'characteristically', 'grin', 'kindly', 'sarcastic', 'chuckle', 'mischievous', 'whisper']\n",
      "bristle ['bristle', 'glib', 'dismissive', 'characteristically', 'polite', 'pompous', 'articulate', 'retort', 'sarcastic', 'mannered']\n",
      "bristle ['glib', 'bristle', 'tongued', 'characteristically', 'pompous', 'sarcastic', 'mischievous', 'kindly', 'grin', 'polite']\n",
      "bristle ['bristle', 'glib', 'tongued', 'characteristically', 'pompous', 'kindly', 'sarcastic', 'mischievous', 'polite', 'grin']\n",
      "bristle ['bristle', 'glib', 'tongued', 'characteristically', 'sarcastic', 'whisper', 'grin', 'mischievous', 'chuckle', 'pompous']\n",
      "bristle ['bristle', 'glib', 'tongued', 'characteristically', 'kindly', 'pompous', 'mischievous', 'grin', 'sarcastic', 'whisper']\n",
      "bristle ['bristle', 'glib', 'tongued', 'characteristically', 'pompous', 'sarcastic', 'mischievous', 'kindly', 'grin', 'whisper']\n",
      "bristle ['bristle', 'glib', 'characteristically', 'tongued', 'grin', 'whisper', 'kindly', 'mischievous', 'gentle', 'chuckle']\n",
      "bounty ['bounty', 'merit', 'reward', 'award', 'recipient', 'pedigree', 'bravery', 'ultimate', 'exceptional', 'prize']\n",
      "bounty ['calling', 'inviting', 'welcome', 'ordinary', 'faithful', 'merely', 'enthusiastic', 'asking', 'consider', 'giving']\n",
      "bounty ['incursion', 'shelling', 'retaliation', 'raid', 'onslaught', 'blockade', 'ambush', 'strip', 'attack', 'retaliatory']\n",
      "bounty ['bounty', 'crocodile', 'lion', 'shaggy', 'rapper', 'honey', 'thief', 'golden', 'pearl', 'witch']\n",
      "bounty ['wisdom', 'sense', 'essence', 'genuine', 'true', 'mind', 'belief', 'moral', 'sort', 'kind']\n",
      "bounty ['inviting', 'welcome', 'calling', 'enthusiastic', 'seize', 'independence', 'oppose', 'accept', 'favor', 'asking']\n",
      "bounty ['bomb', 'terrorist', 'attack', 'responsible', 'destroy', 'suspected', 'killing', 'suicide', 'fire', 'security']\n",
      "bounty ['bounty', 'shaggy', 'crocodile', 'rapper', 'vampire', 'witch', 'thief', 'hound', 'pimp', 'honey']\n",
      "bounty ['bounty', 'crocodile', 'jolly', 'hunter', 'lion', 'hunt', 'hound', 'dove', 'thief', 'ransom']\n",
      "bounty ['feeding', 'feed', 'spread', 'prevent', 'blood', 'sick', 'animal', 'eating', 'dying', 'normally']\n",
      "arthritis ['degenerative', 'arthritis', 'heal', 'spinal', 'chronic', 'paralysis', 'tendon', 'incurable', 'traumatic', 'bleeding']\n",
      "arthritis ['arthritis', 'degenerative', 'heal', 'chronic', 'cure', 'suffering', 'traumatic', 'spinal', 'heart', 'stomach']\n",
      "trinity ['council', 'committee', 'appointment', 'decision', 'secretary', 'representative', 'member', 'commission', 'authority', 'board']\n",
      "trinity ['people', 'least', 'ordinary', 'speak', 'alone', 'living', 'person', 'mostly', 'have', 'here']\n",
      "trinity ['contemporary', 'famous', 'inspiration', 'inspired', 'art', 'music', 'audience', 'folk', 'notable', 'passion']\n",
      "trinity ['peck', 'freeman', 'griffin', 'fisher', 'mason', 'cooper', 'porter', 'wheeler', 'baker', 'walker']\n",
      "trinity ['conservative', 'liberal', 'political', 'party', 'leading', 'influential', 'prominent', 'majority', 'politics', 'favor']\n",
      "ravine ['tip', 'mouth', 'tiny', 'crossing', 'rim', 'slope', 'lying', 'border', 'edge', 'portion']\n",
      "ravine ['tip', 'fault', 'slope', 'ridge', 'deep', 'edge', 'mouth', 'southern', 'area', 'rough']\n",
      "ravine ['jutting', 'porous', 'rim', 'slope', 'sloping', 'thickly', 'bristle', 'embankment', 'skirting', 'ravine']\n",
      "ravine ['tip', 'rim', 'tiny', 'crossing', 'mouth', 'border', 'slope', 'northwest', 'southwest', 'northernmost']\n"
     ]
    },
    {
     "name": "stdout",
     "output_type": "stream",
     "text": [
      "hierarchy ['belief', 'attitude', 'stance', 'sense', 'expression', 'ideology', 'embrace', 'hierarchy', 'moral', 'argument']\n",
      "hierarchy ['concurrent', 'transmission', 'parallel', 'alignment', 'configuration', 'loop', 'system', 'multiple', 'continuous', 'computation']\n",
      "hierarchy ['conservative', 'liberal', 'party', 'political', 'politics', 'opinion', 'leaning', 'majority', 'debate', 'support']\n",
      "hierarchy ['rigid', 'posture', 'hierarchy', 'core', 'orientation', 'functional', 'component', 'integral', 'function', 'effective']\n",
      "map ['episode', 'single', 'series', 'sequence', 'appear', 'show', 'same', 'list', 'character', 'appearance']\n",
      "map ['sequence', 'single', 'same', 'episode', 'actual', 'different', 'instance', 'complete', 'feature', 'form']\n",
      "map ['same', 'different', 'instance', 'example', 'people', 'number', 'least', 'present', 'person', 'exactly']\n",
      "map ['instead', 'add', 'serve', 'regular', 'hold', 'full', 'separate', 'same', 'giving', 'rather']\n",
      "map ['function', 'different', 'discrete', 'component', 'specific', 'corresponding', 'normal', 'example', 'functional', 'definition']\n",
      "map ['sequence', 'corresponding', 'singular', 'variation', 'iteration', 'actual', 'element', 'random', 'discrete', 'definition']\n",
      "map ['episode', 'reality', 'show', 'appearance', 'series', 'moment', 'titled', 'story', 'ever', 'memorable']\n",
      "map ['affirm', 'declare', 'uphold', 'proclaim', 'reiterate', 'recognize', 'reconsider', 'accept', 'intend', 'renounce']\n",
      "harrier ['harrier', 'falcon', 'phantom', 'cougar', 'hawk', 'hawker', 'jaguar', 'leopard', 'sparrow', 'wasp']\n",
      "harrier ['harrier', 'falcon', 'hawker', 'peregrine', 'wasp', 'hawk', 'bane', 'cougar', 'offshoot', 'sis']\n",
      "harrier ['harrier', 'falcon', 'phantom', 'hawk', 'conqueror', 'hawker', 'tiger', 'gunner', 'wasp', 'fighter']\n",
      "harrier ['savagery', 'imperil', 'medusa', 'yoke', 'precipice', 'encroachment', 'infidel', 'devastate', 'abominable', 'deplore']\n",
      "harrier ['harrier', 'falcon', 'sparrow', 'wasp', 'thunderbolt', 'phantom', 'discoverer', 'conqueror', 'cougar', 'slayer']\n",
      "manage ['heal', 'bind', 'regenerate', 'differentiate', 'confront', 'rid', 'reconcile', 'mend', 'remove', 'isolate']\n",
      "manage ['bowling', 'fitness', 'bowler', 'serial', 'instructional', 'slater', 'career', 'featured', 'series', 'columbine']\n",
      "manage ['people', 'alone', 'least', 'forced', 'rest', 'still', 'leave', 'already', 'have', 'coming']\n",
      "manage ['posture', 'shape', 'core', 'rigid', 'hierarchy', 'orientation', 'position', 'component', 'flexible', 'element']\n",
      "manage ['pace', 'slow', 'speed', 'fast', 'steady', 'acceleration', 'rapid', 'momentum', 'dynamic', 'continuous']\n",
      "manage ['ignore', 'honestly', 'understand', 'frankly', 'perceive', 'explain', 'understandable', 'plainly', 'answer', 'relate']\n",
      "manage ['wisdom', 'sense', 'belief', 'genuine', 'moral', 'mind', 'essence', 'true', 'humility', 'understand']\n",
      "manage ['satisfy', 'fail', 'intend', 'agree', 'convince', 'seek', 'continue', 'threaten', 'assure', 'desire']\n",
      "manage ['satisfy', 'fail', 'intend', 'convince', 'agree', 'seek', 'continue', 'threaten', 'assure', 'desire']\n",
      "manage ['fault', 'problem', 'lie', 'prone', 'error', 'difficult', 'nowhere', 'mistake', 'defect', 'somehow']\n",
      "manage ['desire', 'understand', 'realize', 'satisfy', 'sense', 'need', 'opportunity', 'inability', 'necessarily', 'willingness']\n",
      "manage ['satisfy', 'retain', 'fail', 'need', 'bring', 'necessary', 'seek', 'manage', 'able', 'opportunity']\n",
      "manage ['need', 'help', 'needs', 'keep', 'bring', 'manage', 'rest', 'remain', 'survive', 'continue']\n",
      "manage ['convince', 'able', 'intend', 'manage', 'satisfy', 'help', 'continue', 'agree', 'want', 'need']\n"
     ]
    }
   ],
   "source": [
    "count = 0\n",
    "for i in range(0, 250): #len(definition_indices)\n",
    "    if count >= 100:\n",
    "        break\n",
    "    x = torch.tensor(definition_indices[i])\n",
    "    #print(x.shape)\n",
    "    init_hidden = model.initHidden()\n",
    "    tag_scores = model.forward(x.view(x.shape[0], 1), init_hidden)\n",
    "    #print(tag_scores[0].shape, y.shape)\n",
    "    if words[i] in validate_dict: \n",
    "        count += 1\n",
    "        #print(words[i])\n",
    "        y_array = np.array(glove_dict[words[i]]) if words[i] in glove_dict else np.random.normal(scale=0.6, size=(50,))\n",
    "        y = torch.tensor(y).double()\n",
    "        y_pred = tag_scores[0].view((tag_scores[0].shape[2])).double()\n",
    "        eval.top_ten_hundred(validate_dict, words[i], y_pred.detach().numpy())\n"
   ]
  },
  {
   "cell_type": "markdown",
   "metadata": {},
   "source": [
    "## print(eval.compute_th_accuracy())"
   ]
  },
  {
   "cell_type": "code",
   "execution_count": 14,
   "metadata": {},
   "outputs": [
    {
     "name": "stdout",
     "output_type": "stream",
     "text": [
      "(47, 56, 100)\n"
     ]
    }
   ],
   "source": [
    "print(eval.compute_th_accuracy())"
   ]
  },
  {
   "cell_type": "code",
   "execution_count": null,
   "metadata": {},
   "outputs": [],
   "source": []
  }
 ],
 "metadata": {
  "kernelspec": {
   "display_name": "Python 3",
   "language": "python",
   "name": "python3"
  }
 },
 "nbformat": 4,
 "nbformat_minor": 4
}
